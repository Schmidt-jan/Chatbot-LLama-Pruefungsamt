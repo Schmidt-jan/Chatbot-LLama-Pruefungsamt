{
 "cells": [
  {
   "cell_type": "code",
   "execution_count": 16,
   "metadata": {},
   "outputs": [],
   "source": [
    "import openai\n",
    "from openai import OpenAI\n",
    "import json\n",
    "\n",
    "\n",
    "\n",
    "client = OpenAI(api_key='')\n",
    "\n",
    "\n",
    "\n",
    "# Function to generate question-answer pairs for a batch of paragraphs\n",
    "def generate_qa_pairs(paragraphs):\n",
    "    response = client.chat.completions.create(\n",
    "        model=\"gpt-4o\",\n",
    "        response_format={ \"type\": \"json_object\" },\n",
    "        messages=[\n",
    "            {\"role\": \"system\", \"content\": \"You are a helpful assistant designed to output JSON. Generate a list of question-answer pairs for the paragraph fields in the for the json array provided by the user. Format the output as JSON with 'question', 'answer', and 'context' fields.\"},\n",
    "            {\"role\": \"user\", \"content\": f\"{json.dumps(paragraphs)}\"}\n",
    "        ]\n",
    "    )\n",
    "    \n",
    "    return response\n",
    "\n",
    "\n",
    "def divide_chunks(l, n): \n",
    "      \n",
    "    # looping till length l \n",
    "    for i in range(0, len(l), n):  \n",
    "        yield l[i:i + n] "
   ]
  },
  {
   "cell_type": "code",
   "execution_count": 23,
   "metadata": {},
   "outputs": [
    {
     "name": "stdout",
     "output_type": "stream",
     "text": [
      "Wrote chunk 0: synthetic-datasets/qac-paris-chunk0\n",
      "Wrote chunk 1: synthetic-datasets/qac-paris-chunk1\n",
      "Wrote chunk 2: synthetic-datasets/qac-paris-chunk2\n",
      "Wrote chunk 3: synthetic-datasets/qac-paris-chunk3\n",
      "Wrote chunk 4: synthetic-datasets/qac-paris-chunk4\n",
      "Wrote chunk 5: synthetic-datasets/qac-paris-chunk5\n",
      "Wrote chunk 6: synthetic-datasets/qac-paris-chunk6\n",
      "Wrote chunk 7: synthetic-datasets/qac-paris-chunk7\n",
      "Wrote chunk 8: synthetic-datasets/qac-paris-chunk8\n",
      "Wrote chunk 9: synthetic-datasets/qac-paris-chunk9\n",
      "Wrote chunk 10: synthetic-datasets/qac-paris-chunk10\n",
      "Wrote chunk 11: synthetic-datasets/qac-paris-chunk11\n",
      "Wrote chunk 12: synthetic-datasets/qac-paris-chunk12\n",
      "Wrote chunk 13: synthetic-datasets/qac-paris-chunk13\n",
      "Wrote chunk 14: synthetic-datasets/qac-paris-chunk14\n",
      "Wrote chunk 15: synthetic-datasets/qac-paris-chunk15\n",
      "Wrote chunk 16: synthetic-datasets/qac-paris-chunk16\n",
      "Wrote chunk 17: synthetic-datasets/qac-paris-chunk17\n"
     ]
    }
   ],
   "source": [
    "with open('paragraphs.json', 'r') as file:\n",
    "    paragraphs = json.load(file)\n",
    "\n",
    "    chunks = list(divide_chunks(paragraphs, 10))\n",
    "    \n",
    "    chunk_number = 0\n",
    "    for chunk in chunks:\n",
    "        response = generate_qa_pairs(chunk)\n",
    "        with open(f'synthetic-datasets/qac-paris-chunk{chunk_number}.json', 'w', encoding=\"utf-8\") as file:\n",
    "            json.dump(response.choices[0].message.content, file, indent=2)\n",
    "            print(f'Wrote chunk {chunk_number}: synthetic-datasets/qac-paris-chunk{chunk_number}')\n",
    "        chunk_number += 1\n",
    "    \n"
   ]
  },
  {
   "cell_type": "code",
   "execution_count": 15,
   "metadata": {},
   "outputs": [
    {
     "name": "stdout",
     "output_type": "stream",
     "text": [
      "\n",
      "  {\n",
      "    \"question\": \"What is the main content covered in the Zulassungssatzung for the Masterstudiengänge at Hochschule Konstanz?\",\n",
      "    \"answer\": \"The Zulassungssatzung covers various sections including the application area, deadlines, general provisions, specific master programs, and final provisions.\",\n",
      "    \"context\": \"Hochschule Konstanz Technik, Wirtschaft und Gestaltung Seite 1 von 43 Zulassungssatzung für die Masterstudiengänge (ZuSMa) (vom 09. Februar 2021, zuletzt geändert am 18. Januar 2022) Inhaltsverzeichnis Teil 1 – Anwendungsbereich ...\"\n",
      "  }\n",
      "  \n",
      "  \n"
     ]
    }
   ],
   "source": [
    "print(response.choices[0].message.content)"
   ]
  },
  {
   "cell_type": "code",
   "execution_count": 35,
   "metadata": {},
   "outputs": [
    {
     "name": "stdout",
     "output_type": "stream",
     "text": [
      "questionAnswerPairs\n",
      "questions\n",
      "question_answers\n",
      "question_answer_pairs\n",
      "QA_pairs\n",
      "questionAnswerPairs\n"
     ]
    },
    {
     "ename": "TypeError",
     "evalue": "the JSON object must be str, bytes or bytearray, not list",
     "output_type": "error",
     "traceback": [
      "\u001b[0;31m---------------------------------------------------------------------------\u001b[0m",
      "\u001b[0;31mTypeError\u001b[0m                                 Traceback (most recent call last)",
      "Cell \u001b[0;32mIn[35], line 22\u001b[0m\n\u001b[1;32m     18\u001b[0m     \u001b[38;5;66;03m#with open(\"synthetic-datasets/synthetic-qac-pairs.json\", \"w\", encoding=\"utf-8\") as outfile:\u001b[39;00m\n\u001b[1;32m     19\u001b[0m      \u001b[38;5;66;03m#   json.dump(merged_data, outfile, indent=2)\u001b[39;00m\n\u001b[1;32m     21\u001b[0m directory_path \u001b[38;5;241m=\u001b[39m \u001b[38;5;124m\"\u001b[39m\u001b[38;5;124msynthetic-datasets/\u001b[39m\u001b[38;5;124m\"\u001b[39m\n\u001b[0;32m---> 22\u001b[0m \u001b[43mmerge_json_files\u001b[49m\u001b[43m(\u001b[49m\u001b[43mdirectory_path\u001b[49m\u001b[43m)\u001b[49m\n",
      "Cell \u001b[0;32mIn[35], line 11\u001b[0m, in \u001b[0;36mmerge_json_files\u001b[0;34m(directory)\u001b[0m\n\u001b[1;32m      9\u001b[0m filepath \u001b[38;5;241m=\u001b[39m directory \u001b[38;5;241m+\u001b[39m filename\n\u001b[1;32m     10\u001b[0m \u001b[38;5;28;01mwith\u001b[39;00m \u001b[38;5;28mopen\u001b[39m(filepath, \u001b[38;5;124m\"\u001b[39m\u001b[38;5;124mr\u001b[39m\u001b[38;5;124m\"\u001b[39m, encoding\u001b[38;5;241m=\u001b[39m\u001b[38;5;124m\"\u001b[39m\u001b[38;5;124mutf-8\u001b[39m\u001b[38;5;124m\"\u001b[39m) \u001b[38;5;28;01mas\u001b[39;00m file:\n\u001b[0;32m---> 11\u001b[0m     data \u001b[38;5;241m=\u001b[39m \u001b[43mjson\u001b[49m\u001b[38;5;241;43m.\u001b[39;49m\u001b[43mloads\u001b[49m\u001b[43m(\u001b[49m\u001b[43mjson\u001b[49m\u001b[38;5;241;43m.\u001b[39;49m\u001b[43mload\u001b[49m\u001b[43m(\u001b[49m\u001b[43mfile\u001b[49m\u001b[43m)\u001b[49m\u001b[43m)\u001b[49m\n\u001b[1;32m     12\u001b[0m     first \u001b[38;5;241m=\u001b[39m \u001b[38;5;28mlist\u001b[39m(data)[\u001b[38;5;241m0\u001b[39m]\n\u001b[1;32m     13\u001b[0m     \u001b[38;5;28mprint\u001b[39m(first)\n",
      "File \u001b[0;32m~/.pyenv/versions/3.11.7/lib/python3.11/json/__init__.py:339\u001b[0m, in \u001b[0;36mloads\u001b[0;34m(s, cls, object_hook, parse_float, parse_int, parse_constant, object_pairs_hook, **kw)\u001b[0m\n\u001b[1;32m    337\u001b[0m \u001b[38;5;28;01melse\u001b[39;00m:\n\u001b[1;32m    338\u001b[0m     \u001b[38;5;28;01mif\u001b[39;00m \u001b[38;5;129;01mnot\u001b[39;00m \u001b[38;5;28misinstance\u001b[39m(s, (\u001b[38;5;28mbytes\u001b[39m, \u001b[38;5;28mbytearray\u001b[39m)):\n\u001b[0;32m--> 339\u001b[0m         \u001b[38;5;28;01mraise\u001b[39;00m \u001b[38;5;167;01mTypeError\u001b[39;00m(\u001b[38;5;124mf\u001b[39m\u001b[38;5;124m'\u001b[39m\u001b[38;5;124mthe JSON object must be str, bytes or bytearray, \u001b[39m\u001b[38;5;124m'\u001b[39m\n\u001b[1;32m    340\u001b[0m                         \u001b[38;5;124mf\u001b[39m\u001b[38;5;124m'\u001b[39m\u001b[38;5;124mnot \u001b[39m\u001b[38;5;132;01m{\u001b[39;00ms\u001b[38;5;241m.\u001b[39m\u001b[38;5;18m__class__\u001b[39m\u001b[38;5;241m.\u001b[39m\u001b[38;5;18m__name__\u001b[39m\u001b[38;5;132;01m}\u001b[39;00m\u001b[38;5;124m'\u001b[39m)\n\u001b[1;32m    341\u001b[0m     s \u001b[38;5;241m=\u001b[39m s\u001b[38;5;241m.\u001b[39mdecode(detect_encoding(s), \u001b[38;5;124m'\u001b[39m\u001b[38;5;124msurrogatepass\u001b[39m\u001b[38;5;124m'\u001b[39m)\n\u001b[1;32m    343\u001b[0m \u001b[38;5;28;01mif\u001b[39;00m (\u001b[38;5;28mcls\u001b[39m \u001b[38;5;129;01mis\u001b[39;00m \u001b[38;5;28;01mNone\u001b[39;00m \u001b[38;5;129;01mand\u001b[39;00m object_hook \u001b[38;5;129;01mis\u001b[39;00m \u001b[38;5;28;01mNone\u001b[39;00m \u001b[38;5;129;01mand\u001b[39;00m\n\u001b[1;32m    344\u001b[0m         parse_int \u001b[38;5;129;01mis\u001b[39;00m \u001b[38;5;28;01mNone\u001b[39;00m \u001b[38;5;129;01mand\u001b[39;00m parse_float \u001b[38;5;129;01mis\u001b[39;00m \u001b[38;5;28;01mNone\u001b[39;00m \u001b[38;5;129;01mand\u001b[39;00m\n\u001b[1;32m    345\u001b[0m         parse_constant \u001b[38;5;129;01mis\u001b[39;00m \u001b[38;5;28;01mNone\u001b[39;00m \u001b[38;5;129;01mand\u001b[39;00m object_pairs_hook \u001b[38;5;129;01mis\u001b[39;00m \u001b[38;5;28;01mNone\u001b[39;00m \u001b[38;5;129;01mand\u001b[39;00m \u001b[38;5;129;01mnot\u001b[39;00m kw):\n",
      "\u001b[0;31mTypeError\u001b[0m: the JSON object must be str, bytes or bytearray, not list"
     ]
    }
   ],
   "source": [
    "import os\n",
    "import json\n",
    "\n",
    "def merge_json_files(directory):\n",
    "    merged_data = []\n",
    "    \n",
    "    for filename in os.listdir(directory):\n",
    "        if filename.endswith(\".json\"):\n",
    "            filepath = directory + filename\n",
    "            with open(filepath, \"r\", encoding=\"utf-8\") as file:\n",
    "                data = json.loads(json.load(file))\n",
    "                first = list(data)[0]\n",
    "                print(first)\n",
    "                #print(data)\n",
    "                merged_data.extend(data[first])\n",
    "    \n",
    "    print(f\"Dataset Length: {len(merged_data)}\")\n",
    "    with open(\"synthetic-datasets/synthetic-qac-pairs.json\", \"w\", encoding=\"utf-8\") as outfile:\n",
    "        json.dump(merged_data, outfile, indent=2)\n",
    "\n",
    "directory_path = \"synthetic-datasets/\"\n",
    "merge_json_files(directory_path)"
   ]
  },
  {
   "cell_type": "code",
   "execution_count": 37,
   "metadata": {},
   "outputs": [
    {
     "name": "stdout",
     "output_type": "stream",
     "text": [
      "Dataset Length: 240\n"
     ]
    }
   ],
   "source": []
  },
  {
   "cell_type": "code",
   "execution_count": 39,
   "metadata": {},
   "outputs": [
    {
     "name": "stdout",
     "output_type": "stream",
     "text": [
      "Dataset Length: 240\n",
      "LENGTH TRAINING: 192\n",
      "LENGTH VALIDATION: 48\n",
      "LENGTH TOTAL: 240\n"
     ]
    }
   ],
   "source": [
    "from sklearn.model_selection import train_test_split\n",
    "import os \n",
    "import json\n",
    "\n",
    "with open(\"synthetic-datasets/synthetic-qac-pairs.json\", \"r\", encoding=\"utf-8\") as file:\n",
    "        data = json.load(file)\n",
    "        print(f\"Dataset Length: {len(data)}\")\n",
    "\n",
    "        finetune_topic = \"chatbot-qac-pairs\"\n",
    "\n",
    "        output_path_train = f\"datasets/{finetune_topic}/train.json\"\n",
    "        output_path_validation = f\"datasets/{finetune_topic}/validation.json\"\n",
    "\n",
    "        train_data, validation_data = train_test_split(data, train_size=0.8, test_size=0.2, shuffle=True)\n",
    "        print(f\"LENGTH TRAINING: {len(train_data)}\")\n",
    "        print(f\"LENGTH VALIDATION: {len(validation_data)}\")\n",
    "        print(f\"LENGTH TOTAL: {len(data)}\")\n",
    "\n",
    "        os.makedirs(os.path.dirname(output_path_train), exist_ok=True)\n",
    "        with open(output_path_train, \"w\", encoding=\"utf-8\") as output_file:\n",
    "            json.dump(train_data, output_file, indent=2)\n",
    "\n",
    "        os.makedirs(os.path.dirname(output_path_validation), exist_ok=True)\n",
    "        with open(output_path_validation, \"w\", encoding=\"utf-8\") as output_file:\n",
    "            json.dump(validation_data, output_file, indent=2)"
   ]
  }
 ],
 "metadata": {
  "kernelspec": {
   "display_name": "finetuning",
   "language": "python",
   "name": "python3"
  },
  "language_info": {
   "codemirror_mode": {
    "name": "ipython",
    "version": 3
   },
   "file_extension": ".py",
   "mimetype": "text/x-python",
   "name": "python",
   "nbconvert_exporter": "python",
   "pygments_lexer": "ipython3",
   "version": "3.11.7"
  }
 },
 "nbformat": 4,
 "nbformat_minor": 2
}
